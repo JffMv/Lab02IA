{
 "cells": [
  {
   "cell_type": "markdown",
   "id": "38830dab",
   "metadata": {
    "id": "38830dab"
   },
   "source": [
    "# Forward"
   ]
  },
  {
   "cell_type": "code",
   "execution_count": 110,
   "id": "30d94ce9-9b30-4047-bfc7-16619caf7dae",
   "metadata": {},
   "outputs": [
    {
     "name": "stdout",
     "output_type": "stream",
     "text": [
      "Requirement already satisfied: numpy in c:\\users\\usuario\\appdata\\local\\programs\\python\\python311\\lib\\site-packages (1.26.1)\n"
     ]
    },
    {
     "name": "stderr",
     "output_type": "stream",
     "text": [
      "\n",
      "[notice] A new release of pip is available: 23.2.1 -> 23.3.1\n",
      "[notice] To update, run: python.exe -m pip install --upgrade pip\n"
     ]
    }
   ],
   "source": [
    "!pip install numpy\n",
    "import sys"
   ]
  },
  {
   "cell_type": "code",
   "execution_count": 111,
   "id": "KrSnImR5mnj5",
   "metadata": {
    "id": "KrSnImR5mnj5"
   },
   "outputs": [],
   "source": [
    "from numpy import random\n",
    "import numpy as np\n",
    "from IPython.core.interactiveshell import InteractiveShell\n",
    "InteractiveShell.ast_node_interactivity = \"all\""
   ]
  },
  {
   "cell_type": "code",
   "execution_count": 112,
   "id": "cTR9iyd4o61A",
   "metadata": {
    "id": "cTR9iyd4o61A"
   },
   "outputs": [],
   "source": [
    "def initialize_parameters(layers):\n",
    "  parameters = {}\n",
    "  for i in range(len(layers)):\n",
    "    if i > 0:\n",
    "      parameters[\"W\" + str(i)] = np.random.randn(layers[i],layers[i-1]) * 0.01\n",
    "      parameters[\"b\" + str(i)] = np.zeros((layers[i],1))\n",
    "  return parameters"
   ]
  },
  {
   "cell_type": "code",
   "execution_count": 113,
   "id": "de2db6b1",
   "metadata": {
    "colab": {
     "base_uri": "https://localhost:8080/",
     "height": 333
    },
    "id": "de2db6b1",
    "outputId": "47a1970d-40ce-4648-cba6-fc2580327450"
   },
   "outputs": [
    {
     "data": {
      "text/plain": [
       "'Testing initialize_parameters (DeepLearningSpecializationCoursera)'"
      ]
     },
     "execution_count": 113,
     "metadata": {},
     "output_type": "execute_result"
    },
    {
     "data": {
      "text/plain": [
       "'Test # 1'"
      ]
     },
     "execution_count": 113,
     "metadata": {},
     "output_type": "execute_result"
    },
    {
     "data": {
      "text/plain": [
       "'W1 b1'"
      ]
     },
     "execution_count": 113,
     "metadata": {},
     "output_type": "execute_result"
    },
    {
     "data": {
      "text/plain": [
       "array([[ 0.01624345, -0.00611756, -0.00528172],\n",
       "       [-0.01072969,  0.00865408, -0.02301539]])"
      ]
     },
     "execution_count": 113,
     "metadata": {},
     "output_type": "execute_result"
    },
    {
     "data": {
      "text/plain": [
       "array([[0.],\n",
       "       [0.]])"
      ]
     },
     "execution_count": 113,
     "metadata": {},
     "output_type": "execute_result"
    },
    {
     "data": {
      "text/plain": [
       "'W2 b2'"
      ]
     },
     "execution_count": 113,
     "metadata": {},
     "output_type": "execute_result"
    },
    {
     "data": {
      "text/plain": [
       "array([[ 0.01744812, -0.00761207]])"
      ]
     },
     "execution_count": 113,
     "metadata": {},
     "output_type": "execute_result"
    },
    {
     "data": {
      "text/plain": [
       "array([[0.]])"
      ]
     },
     "execution_count": 113,
     "metadata": {},
     "output_type": "execute_result"
    },
    {
     "data": {
      "text/plain": [
       "'Test # 2'"
      ]
     },
     "execution_count": 113,
     "metadata": {},
     "output_type": "execute_result"
    },
    {
     "data": {
      "text/plain": [
       "'W1 b1'"
      ]
     },
     "execution_count": 113,
     "metadata": {},
     "output_type": "execute_result"
    },
    {
     "data": {
      "text/plain": [
       "array([[ 0.01788628,  0.0043651 ,  0.00096497, -0.01863493, -0.00277388],\n",
       "       [-0.00354759, -0.00082741, -0.00627001, -0.00043818, -0.00477218],\n",
       "       [-0.01313865,  0.00884622,  0.00881318,  0.01709573,  0.00050034],\n",
       "       [-0.00404677, -0.0054536 , -0.01546477,  0.00982367, -0.01101068]])"
      ]
     },
     "execution_count": 113,
     "metadata": {},
     "output_type": "execute_result"
    },
    {
     "data": {
      "text/plain": [
       "array([[0.],\n",
       "       [0.],\n",
       "       [0.],\n",
       "       [0.]])"
      ]
     },
     "execution_count": 113,
     "metadata": {},
     "output_type": "execute_result"
    },
    {
     "data": {
      "text/plain": [
       "'W2 b2'"
      ]
     },
     "execution_count": 113,
     "metadata": {},
     "output_type": "execute_result"
    },
    {
     "data": {
      "text/plain": [
       "array([[-0.01185047, -0.0020565 ,  0.01486148,  0.00236716],\n",
       "       [-0.01023785, -0.00712993,  0.00625245, -0.00160513],\n",
       "       [-0.00768836, -0.00230031,  0.00745056,  0.01976111]])"
      ]
     },
     "execution_count": 113,
     "metadata": {},
     "output_type": "execute_result"
    },
    {
     "data": {
      "text/plain": [
       "array([[0.],\n",
       "       [0.],\n",
       "       [0.]])"
      ]
     },
     "execution_count": 113,
     "metadata": {},
     "output_type": "execute_result"
    }
   ],
   "source": [
    "'Testing initialize_parameters (DeepLearningSpecializationCoursera)'\n",
    "'Test # 1'\n",
    "np.random.seed(1)\n",
    "parameters = initialize_parameters([3,2,1])\n",
    "'W1 b1'\n",
    "parameters['W1']\n",
    "assert parameters['W1'].shape==(2,3), \"W1. Wrong size\"\n",
    "assert np.all(np.isclose(parameters['W1'],\n",
    "                         [[ 0.01624345, -0.00611756, -0.00528172], [-0.01072969 ,0.00865408, -0.02301539]])), \"W1. Wrong values\"\n",
    "\n",
    "parameters['b1']\n",
    "assert parameters['b1'].shape==(2,1), \"b1. Wrong size\"\n",
    "assert np.all(np.isclose(parameters['b1'], [[ 0.], [ 0.]])), \"b1. Wrong values\"\n",
    "'W2 b2'\n",
    "parameters['W2']\n",
    "assert parameters['W2'].shape==(1,2), \"W2. Wrong size\"\n",
    "assert np.all(np.isclose(parameters['W2'], [[ 0.01744812, -0.00761207]])), \"W2. Wrong values\"\n",
    "parameters['b2']\n",
    "assert parameters['b2'].shape==(1,1), \"b2. Wrong size\"\n",
    "\n",
    "assert np.all(np.isclose(parameters['b2'], [[ 0.]])), \"b2. Wrong values\"\n",
    "'Test # 2'\n",
    "np.random.seed(3)\n",
    "parameters = initialize_parameters([5,4,3])\n",
    "'W1 b1'\n",
    "parameters['W1']\n",
    "assert parameters['W1'].shape==(4,5), \"W1. Wrong size\"\n",
    "assert np.all(np.isclose(parameters['W1'],\n",
    "                        [[ 0.01788628,  0.0043651,   0.00096497, -0.01863493, -0.00277388],\n",
    " [-0.00354759, -0.00082741, -0.00627001, -0.00043818, -0.00477218],\n",
    " [-0.01313865,  0.00884622,  0.00881318,  0.01709573,  0.00050034],\n",
    " [-0.00404677, -0.0054536,  -0.01546477,  0.00982367, -0.01101068]])), \"W1. Wrong values\"\n",
    "\n",
    "parameters['b1']\n",
    "assert parameters['b1'].shape==(4,1), \"b1. Wrong size\"\n",
    "assert np.all(np.isclose(parameters['b1'], [[ 0.], [ 0.], [ 0.], [ 0.]])), \"b1. Wrong values\"\n",
    "'W2 b2'\n",
    "parameters['W2']\n",
    "assert parameters['W2'].shape==(3,4), \"W2. Wrong size\"\n",
    "assert np.all(np.isclose(parameters['W2'],\n",
    "                        [[-0.01185047, -0.0020565,   0.01486148,  0.00236716],\n",
    " [-0.01023785, -0.00712993,  0.00625245, -0.00160513],\n",
    " [-0.00768836, -0.00230031,  0.00745056,  0.01976111]])), \"W2. Wrong values\"\n",
    "\n",
    "parameters['b2']\n",
    "assert parameters['b2'].shape==(3,1), \"b2. Wrong size\"\n",
    "assert np.all(np.isclose(parameters['b2'], [[ 0.], [ 0.], [ 0.]])), \"b2. Wrong values\""
   ]
  },
  {
   "cell_type": "code",
   "execution_count": 114,
   "id": "Zadjy9B5yq02",
   "metadata": {
    "id": "Zadjy9B5yq02"
   },
   "outputs": [],
   "source": [
    "def forward_step(A_1,W, b):\n",
    "  z= W@A_1+b\n",
    "  A = 1/(1+np.exp(-z))\n",
    "  return A, (A_1, W, A)"
   ]
  },
  {
   "cell_type": "code",
   "execution_count": 115,
   "id": "c57ba50a",
   "metadata": {
    "colab": {
     "base_uri": "https://localhost:8080/",
     "height": 70
    },
    "id": "c57ba50a",
    "outputId": "d73c976d-92c3-44df-ef84-b926bda1da74"
   },
   "outputs": [
    {
     "data": {
      "text/plain": [
       "'Testing forward_step (DeepLearningSpecializationCoursera)'"
      ]
     },
     "execution_count": 115,
     "metadata": {},
     "output_type": "execute_result"
    },
    {
     "data": {
      "text/plain": [
       "'Test # 1: Sigmoid'"
      ]
     },
     "execution_count": 115,
     "metadata": {},
     "output_type": "execute_result"
    },
    {
     "data": {
      "text/plain": [
       "'A'"
      ]
     },
     "execution_count": 115,
     "metadata": {},
     "output_type": "execute_result"
    },
    {
     "data": {
      "text/plain": [
       "array([[0.96890023, 0.11013289]])"
      ]
     },
     "execution_count": 115,
     "metadata": {},
     "output_type": "execute_result"
    },
    {
     "data": {
      "text/plain": [
       "'Test # 2: Sigmoid'"
      ]
     },
     "execution_count": 115,
     "metadata": {},
     "output_type": "execute_result"
    },
    {
     "data": {
      "text/plain": [
       "'A'"
      ]
     },
     "execution_count": 115,
     "metadata": {},
     "output_type": "execute_result"
    },
    {
     "data": {
      "text/plain": [
       "array([[0.41196173, 0.288529  ]])"
      ]
     },
     "execution_count": 115,
     "metadata": {},
     "output_type": "execute_result"
    }
   ],
   "source": [
    "'Testing forward_step (DeepLearningSpecializationCoursera)'\n",
    "np.random.seed(2)\n",
    "'Test # 1: Sigmoid'\n",
    "A_1 = np.random.randn(3,2)\n",
    "W = np.random.randn(1,3)\n",
    "b = np.random.randn(1,1)\n",
    "A, cache = forward_step(A_1, W, b)\n",
    "'A'\n",
    "A\n",
    "assert A.shape==(1,2), \"A. Wrong size\"\n",
    "assert np.all(np.isclose(A, [[ 0.96890023, 0.11013289]])), \"A. Wrong values\"\n",
    "'Test # 2: Sigmoid'\n",
    "A_1 = np.random.randn(3,2)\n",
    "W = np.random.randn(1,3)\n",
    "b = np.random.randn(1,1)\n",
    "A, cache = forward_step(A_1, W, b)\n",
    "'A'\n",
    "A\n",
    "assert A.shape==(1,2), \"A. Wrong size\"\n",
    "assert np.all(np.isclose(A, [[0.41196173, 0.288529  ]])), \"A. Wrong values\""
   ]
  },
  {
   "cell_type": "code",
   "execution_count": 116,
   "id": "wJyqOgUH34db",
   "metadata": {
    "id": "wJyqOgUH34db"
   },
   "outputs": [],
   "source": [
    "def forward(X,parameters):\n",
    "  A = X\n",
    "  caches = []\n",
    "  for i in range(len(parameters)//2):\n",
    "    A,cacheCapa = forward_step(A,parameters[\"W\" + str(i+1)], parameters[\"b\" + str(i+1)])\n",
    "    caches.append(cacheCapa)\n",
    "  return A, caches"
   ]
  },
  {
   "cell_type": "code",
   "execution_count": 117,
   "id": "e37dad40",
   "metadata": {
    "colab": {
     "base_uri": "https://localhost:8080/",
     "height": 53
    },
    "id": "e37dad40",
    "outputId": "6366d75d-0e0b-4327-a755-1bf83966c5a2"
   },
   "outputs": [
    {
     "data": {
      "text/plain": [
       "'Testing forward (DeepLearningSpecializationCoursera)'"
      ]
     },
     "execution_count": 117,
     "metadata": {},
     "output_type": "execute_result"
    },
    {
     "data": {
      "text/plain": [
       "'AL'"
      ]
     },
     "execution_count": 117,
     "metadata": {},
     "output_type": "execute_result"
    },
    {
     "data": {
      "text/plain": [
       "array([[0.55865298, 0.52006807, 0.51071853, 0.53912084]])"
      ]
     },
     "execution_count": 117,
     "metadata": {},
     "output_type": "execute_result"
    },
    {
     "data": {
      "text/plain": [
       "'Caches'"
      ]
     },
     "execution_count": 117,
     "metadata": {},
     "output_type": "execute_result"
    },
    {
     "data": {
      "text/plain": [
       "3"
      ]
     },
     "execution_count": 117,
     "metadata": {},
     "output_type": "execute_result"
    }
   ],
   "source": [
    "'Testing forward (DeepLearningSpecializationCoursera)'\n",
    "np.random.seed(6)\n",
    "X = np.random.randn(5,4)\n",
    "parameters={}\n",
    "parameters['W1'] = np.random.randn(4,5)\n",
    "parameters['b1'] = np.random.randn(4,1)\n",
    "parameters['W2'] = np.random.randn(3,4)\n",
    "parameters['b2'] = np.random.randn(3,1)\n",
    "parameters['W3'] = np.random.randn(1,3)\n",
    "parameters['b3'] = np.random.randn(1,1)\n",
    "AL,caches=forward(X, parameters)\n",
    "'AL'\n",
    "AL\n",
    "assert AL.shape==(1,4), \"AL. Wrong size\"\n",
    "assert np.all(np.isclose(AL,[[0.55865298, 0.52006807, 0.51071853, 0.53912084]])), \"AL. Wrong values\"\n",
    "'Caches'\n",
    "len(caches)\n",
    "assert len(caches)==3, \"Caches. Wrong size\""
   ]
  },
  {
   "cell_type": "code",
   "execution_count": 118,
   "id": "GB80P7_i7Q8X",
   "metadata": {
    "id": "GB80P7_i7Q8X"
   },
   "outputs": [],
   "source": [
    "def predict(X,parameters):\n",
    "  A = X\n",
    "  for i in range(len(parameters)//2):\n",
    "    A,cacheCapa = forward_step(A,parameters[\"W\" + str(i+1)], parameters[\"b\" + str(i+1)])\n",
    "  return A"
   ]
  },
  {
   "cell_type": "code",
   "execution_count": 119,
   "id": "7df2b9b6",
   "metadata": {
    "colab": {
     "base_uri": "https://localhost:8080/",
     "height": 52
    },
    "id": "7df2b9b6",
    "outputId": "5de5dec1-d9b4-4111-f2a5-1aeba0bd131c"
   },
   "outputs": [
    {
     "data": {
      "text/plain": [
       "'Testing predict (DeepLearningSpecializationCoursera)'"
      ]
     },
     "execution_count": 119,
     "metadata": {},
     "output_type": "execute_result"
    },
    {
     "data": {
      "text/plain": [
       "'Yp'"
      ]
     },
     "execution_count": 119,
     "metadata": {},
     "output_type": "execute_result"
    },
    {
     "data": {
      "text/plain": [
       "array([[0.55865298, 0.52006807, 0.51071853, 0.53912084]])"
      ]
     },
     "execution_count": 119,
     "metadata": {},
     "output_type": "execute_result"
    }
   ],
   "source": [
    "'Testing predict (DeepLearningSpecializationCoursera)'\n",
    "np.random.seed(6)\n",
    "X = np.random.randn(5,4)\n",
    "parameters={}\n",
    "parameters['W1'] = np.random.randn(4,5)\n",
    "parameters['b1'] = np.random.randn(4,1)\n",
    "parameters['W2'] = np.random.randn(3,4)\n",
    "parameters['b2'] = np.random.randn(3,1)\n",
    "parameters['W3'] = np.random.randn(1,3)\n",
    "parameters['b3'] = np.random.randn(1,1)\n",
    "Yp=predict(X, parameters)\n",
    "'Yp'\n",
    "Yp\n",
    "assert Yp.shape==(1,4), \"Yp. Wrong size\"\n",
    "assert np.all(np.isclose(Yp,[[0.55865298, 0.52006807, 0.51071853, 0.53912084]])), \"Yp. Wrong values\""
   ]
  },
  {
   "cell_type": "code",
   "execution_count": 120,
   "id": "z0XBhL1J7OfB",
   "metadata": {
    "id": "z0XBhL1J7OfB"
   },
   "outputs": [],
   "source": [
    "def accuracy(X,Y,parameters):\n",
    "    A = predict(X,parameters)\n",
    "    loss = np.mean(np.where((Y-A)*(Y-A)))\n",
    "    if(loss >= 0.6): loss = 1\n",
    "    return loss"
   ]
  },
  {
   "cell_type": "code",
   "execution_count": 121,
   "id": "b41f438a",
   "metadata": {
    "id": "b41f438a",
    "outputId": "6874f989-c7d0-4b0c-fb48-028160693e59"
   },
   "outputs": [
    {
     "data": {
      "text/plain": [
       "'Testing accuracy'"
      ]
     },
     "execution_count": 121,
     "metadata": {},
     "output_type": "execute_result"
    },
    {
     "data": {
      "text/plain": [
       "1"
      ]
     },
     "execution_count": 121,
     "metadata": {},
     "output_type": "execute_result"
    }
   ],
   "source": [
    "'Testing accuracy'\n",
    "np.random.seed(6)\n",
    "X = np.random.randn(5,4)\n",
    "Y = np.zeros(4)\n",
    "parameters={}\n",
    "parameters['W1'] = np.random.randn(4,5)\n",
    "parameters['b1'] = np.random.randn(4,1)\n",
    "parameters['W2'] = np.random.randn(3,4)\n",
    "parameters['b2'] = np.random.randn(3,1)\n",
    "parameters['W3'] = np.random.randn(1,3)\n",
    "parameters['b3'] = np.random.randn(1,1)\n",
    "\n",
    "accuracy (X, Y, parameters)\n",
    "assert accuracy (X, Y, parameters)==1, \"Wrong value\""
   ]
  },
  {
   "cell_type": "markdown",
   "id": "2eabcb53",
   "metadata": {
    "id": "2eabcb53"
   },
   "source": [
    "# Backward"
   ]
  },
  {
   "cell_type": "code",
   "execution_count": 122,
   "id": "2b4a147c-8612-42c1-a84f-5781934cc454",
   "metadata": {},
   "outputs": [],
   "source": [
    "def cost(Yp,Y):\n",
    "    return np.mean(-(Y*np.log(Yp + sys.float_info.epsilon) + (1-Y) * np.log(1-Yp+ sys.float_info.epsilon))) "
   ]
  },
  {
   "cell_type": "code",
   "execution_count": 123,
   "id": "75fb9a70",
   "metadata": {
    "id": "75fb9a70",
    "outputId": "a2ebb262-7f65-4a1c-dc26-4ff6c61dd9c5"
   },
   "outputs": [
    {
     "data": {
      "text/plain": [
       "'Testing cost (DeepLearningSpecializationCoursera)'"
      ]
     },
     "execution_count": 123,
     "metadata": {},
     "output_type": "execute_result"
    },
    {
     "data": {
      "text/plain": [
       "0.27977656357934194"
      ]
     },
     "execution_count": 123,
     "metadata": {},
     "output_type": "execute_result"
    }
   ],
   "source": [
    "'Testing cost (DeepLearningSpecializationCoursera)'\n",
    "Y = np.array([[1, 1, 0]])\n",
    "Yp = np.array([[.8,.9,0.4]])\n",
    "cost(Yp,Y)\n",
    "assert np.isclose(cost(Yp,Y),0.2797765635793422), \"BinaryCrossEntropy. Wrong values\""
   ]
  },
  {
   "cell_type": "code",
   "execution_count": 124,
   "id": "6f66da1d-3775-4e37-9327-29a6f13c98f1",
   "metadata": {},
   "outputs": [],
   "source": [
    "def backward_step(dA, cache):\n",
    "    A_1,W, A = cache\n",
    "    dZ = dA * A * (1 - A)\n",
    "    m = A_1.shape[1]\n",
    "    dA_1 = W.T@dZ\n",
    "    dW = (1/m) * (dZ@A_1.T)\n",
    "    db = (1/m) * np.sum(dZ, axis=1, keepdims=True)\n",
    "    return dA_1, dW, db\n",
    "    \n",
    "    "
   ]
  },
  {
   "cell_type": "code",
   "execution_count": 125,
   "id": "9d383ea2",
   "metadata": {
    "id": "9d383ea2",
    "outputId": "6fb60fef-7c85-4456-83f8-3aafd4082994"
   },
   "outputs": [
    {
     "data": {
      "text/plain": [
       "'Testing backward_step (DeepLearningSpecializationCoursera)'"
      ]
     },
     "execution_count": 125,
     "metadata": {},
     "output_type": "execute_result"
    },
    {
     "data": {
      "text/plain": [
       "'Test #1: Sigmoid dA_1, dW, db'"
      ]
     },
     "execution_count": 125,
     "metadata": {},
     "output_type": "execute_result"
    },
    {
     "data": {
      "text/plain": [
       "array([[ 0.11017994,  0.01105339],\n",
       "       [ 0.09466817,  0.00949723],\n",
       "       [-0.05743092, -0.00576154]])"
      ]
     },
     "execution_count": 125,
     "metadata": {},
     "output_type": "execute_result"
    },
    {
     "data": {
      "text/plain": [
       "array([[ 0.10266786,  0.09778551, -0.01968084]])"
      ]
     },
     "execution_count": 125,
     "metadata": {},
     "output_type": "execute_result"
    },
    {
     "data": {
      "text/plain": [
       "array([[-0.05729622]])"
      ]
     },
     "execution_count": 125,
     "metadata": {},
     "output_type": "execute_result"
    }
   ],
   "source": [
    "'Testing backward_step (DeepLearningSpecializationCoursera)'\n",
    "np.random.seed(2)\n",
    "'Test #1: Sigmoid dA_1, dW, db'\n",
    "dA = np.random.randn(1,2)\n",
    "A_1 = np.random.randn(3,2)\n",
    "W = np.random.randn(1,3)\n",
    "b = np.random.randn(1,1)\n",
    "Z = np.random.randn(1,2)\n",
    "A = (1/(1+np.exp(-Z)))\n",
    "\n",
    "cache = (A_1,W, A)\n",
    "dA_1, dW, db = backward_step(dA, cache)\n",
    "dA_1\n",
    "assert dA_1.shape==(3,2), \"A. Wrong size\"\n",
    "assert np.all(np.isclose(dA_1, [[ 0.11017994,  0.01105339],\n",
    "                             [ 0.09466817,  0.00949723],\n",
    "                             [-0.05743092, -0.00576154]])), \"dA_1. Wrong values\"\n",
    "dW\n",
    "assert dW.shape==(1,3), \"dW. Wrong size\"\n",
    "assert np.all(np.isclose(dW, [[ 0.10266786,  0.09778551, -0.01968084]])), \"dW. Wrong values\"\n",
    "db\n",
    "assert db.shape==(1,1), \"db. Wrong size\"\n",
    "assert np.all(np.isclose(db, [[-0.05729622]])), \"db. Wrong values\"\n"
   ]
  },
  {
   "cell_type": "code",
   "execution_count": 126,
   "id": "01d49763-2c86-45ff-b174-53e37585694d",
   "metadata": {},
   "outputs": [],
   "source": [
    "def backward(AL, Y, caches):\n",
    "    numero_capas = len(caches)\n",
    "    grads = {}\n",
    "    currentCache = caches[numero_capas - 1]\n",
    "    dAL = -(np.divide(Y, AL + 1e-12) - np.divide(1 - Y, 1 - AL +  1e-12))\n",
    "    dA_1,grads[\"dW\" + str(numero_capas)], grads[\"db\" + str(numero_capas)] = backward_step(dAL,currentCache)\n",
    "    for l in reversed(range(numero_capas - 1)):\n",
    "        currentCache = caches[l]\n",
    "        dA_1,grads[\"dW\" + str(l+1)], grads[\"db\" + str(l+1)] = backward_step(dA_1,currentCache)\n",
    "    return grads\n",
    "    \n",
    "    \n",
    "    "
   ]
  },
  {
   "cell_type": "code",
   "execution_count": 127,
   "id": "1d737872",
   "metadata": {
    "id": "1d737872",
    "outputId": "8d57f325-057e-488a-d3e6-ff6235782f9e"
   },
   "outputs": [
    {
     "data": {
      "text/plain": [
       "'Testing backward'"
      ]
     },
     "execution_count": 127,
     "metadata": {},
     "output_type": "execute_result"
    },
    {
     "data": {
      "text/plain": [
       "array([[-0.00100175, -0.09968066, -0.03909226, -0.02330927],\n",
       "       [ 0.96094749, -0.67576359, -0.01117241,  0.04711791],\n",
       "       [ 0.02755101,  0.0423293 ,  0.02371575,  0.01564826]])"
      ]
     },
     "execution_count": 127,
     "metadata": {},
     "output_type": "execute_result"
    },
    {
     "data": {
      "text/plain": [
       "array([[ 0.35434572],\n",
       "       [ 2.53806384],\n",
       "       [-0.14666465]])"
      ]
     },
     "execution_count": 127,
     "metadata": {},
     "output_type": "execute_result"
    }
   ],
   "source": [
    "'Testing backward'\n",
    "np.random.seed(3)\n",
    "AL = np.random.randn(1, 2)\n",
    "Y = np.array([[1, 0]])\n",
    "\n",
    "A_1 = np.random.randn(4,2)\n",
    "W1 = np.random.randn(3,4)\n",
    "A1 = np.random.randn(3,2)\n",
    "cache_1= (A_1, W1, A1)\n",
    "\n",
    "A_2 = np.random.randn(3,2)\n",
    "W2 = np.random.randn(1,3)\n",
    "A2 = np.random.randn(1,2)\n",
    "cache_2 = (A_2, W2, A2)\n",
    "\n",
    "grads=backward(AL, Y, [cache_1, cache_2])\n",
    "\n",
    "grads['dW1']\n",
    "assert grads['dW1'].shape==(3,4), \"dW1. Wrong size\"\n",
    "assert np.all(np.isclose(grads['dW1'], [[-0.00100175, -0.09968066, -0.03909226, -0.02330927],\n",
    "                                       [ 0.96094749, -0.67576359, -0.01117241,  0.04711791],\n",
    "                                       [ 0.02755101,  0.0423293 ,  0.02371575,  0.01564826]])), \"dW1. Wrong values\"\n",
    "grads['db1']\n",
    "assert grads['db1'].shape==(3,1), \"db1. Wrong size\"\n",
    "assert np.all(np.isclose(grads['db1'],  [[ 0.35434572],[ 2.53806384],[-0.14666465]])), \"db1. Wrong values\""
   ]
  },
  {
   "cell_type": "code",
   "execution_count": 128,
   "id": "030e26ed-0099-4539-b692-df122bf8fd24",
   "metadata": {},
   "outputs": [],
   "source": [
    "def update_parameters(parameters,grads, learning_rate):\n",
    "    L= len(parameters)//2\n",
    "    for l in range(L):\n",
    "        parameters['W'+str(l+1)]= parameters['W'+str(l+1)]-learning_rate*grads['dW'+str(l+1)]\n",
    "        parameters['b'+str(l+1)]= parameters['b'+str(l+1)]-learning_rate*grads['db'+str(l+1)]\n",
    "    return parameters"
   ]
  },
  {
   "cell_type": "code",
   "execution_count": 129,
   "id": "f7393a81",
   "metadata": {
    "id": "f7393a81",
    "outputId": "0c4f48c0-6db0-4dbe-b4c2-a98e0ce5197b"
   },
   "outputs": [
    {
     "data": {
      "text/plain": [
       "'Testing update_parameters (DeepLearningSpecializationCoursera)'"
      ]
     },
     "execution_count": 129,
     "metadata": {},
     "output_type": "execute_result"
    },
    {
     "data": {
      "text/plain": [
       "array([[-0.59562069, -0.09991781, -2.14584584,  1.82662008],\n",
       "       [-1.76569676, -0.80627147,  0.51115557, -1.18258802],\n",
       "       [-1.0535704 , -0.86128581,  0.68284052,  2.20374577]])"
      ]
     },
     "execution_count": 129,
     "metadata": {},
     "output_type": "execute_result"
    },
    {
     "data": {
      "text/plain": [
       "array([[-0.04659241],\n",
       "       [-1.28888275],\n",
       "       [ 0.53405496]])"
      ]
     },
     "execution_count": 129,
     "metadata": {},
     "output_type": "execute_result"
    },
    {
     "data": {
      "text/plain": [
       "array([[-0.55569196,  0.0354055 ,  1.32964895]])"
      ]
     },
     "execution_count": 129,
     "metadata": {},
     "output_type": "execute_result"
    },
    {
     "data": {
      "text/plain": [
       "array([[-0.84610769]])"
      ]
     },
     "execution_count": 129,
     "metadata": {},
     "output_type": "execute_result"
    }
   ],
   "source": [
    "'Testing update_parameters (DeepLearningSpecializationCoursera)'\n",
    "np.random.seed(2)\n",
    "parameters={}\n",
    "parameters['W1'] = np.random.randn(3,4)\n",
    "parameters['b1'] = np.random.randn(3,1)\n",
    "parameters['W2'] = np.random.randn(1,3)\n",
    "parameters['b2'] = np.random.randn(1,1)\n",
    "np.random.seed(3)\n",
    "grads={}\n",
    "grads['dW1'] = np.random.randn(3,4)\n",
    "grads['db1'] = np.random.randn(3,1)\n",
    "grads['dW2'] = np.random.randn(1,3)\n",
    "grads['db2'] = np.random.randn(1,1)\n",
    "\n",
    "parameters=update_parameters(parameters, grads, 0.1)\n",
    "parameters['W1']\n",
    "assert parameters['W1'].shape==(3,4), \"W1. Wrong size\"\n",
    "assert np.all(np.isclose(parameters['W1'], [[-0.59562069, -0.09991781, -2.14584584,  1.82662008],\n",
    "                                            [-1.76569676, -0.80627147,  0.51115557, -1.18258802],\n",
    "                                            [-1.0535704,  -0.86128581,  0.68284052,  2.20374577]])), \"W1. Wrong values\"\n",
    "parameters['b1']\n",
    "assert parameters['b1'].shape==(3,1), \"b1. Wrong size\"\n",
    "assert np.all(np.isclose(parameters['b1'],  [[-0.04659241],[-1.28888275],[ 0.53405496]])), \"b1. Wrong values\"\n",
    "parameters['W2']\n",
    "assert parameters['W2'].shape==(1,3), \"W2. Wrong size\"\n",
    "assert np.all(np.isclose(parameters['W2'], [[-0.55569196,  0.0354055,   1.32964895]])), \"W2. Wrong values\"\n",
    "parameters['b2']\n",
    "assert parameters['b2'].shape==(1,1), \"b2. Wrong size\"\n",
    "assert np.all(np.isclose(parameters['b2'], [[-0.84610769]])), \"b2. Wrong values\""
   ]
  },
  {
   "cell_type": "code",
   "execution_count": 132,
   "id": "68c1dcac-0e3c-4210-8b83-55647b5eda1b",
   "metadata": {},
   "outputs": [],
   "source": [
    "def train(X,Y,layers,learning_rate,iterations,print_cost):\n",
    "    parameters = initialize_parameters(layers)\n",
    "    costs = []\n",
    "    for i in range(iterations):\n",
    "        Yp, caches = forward(X,parameters)\n",
    "        gradients = backward(Yp,Y,caches)\n",
    "        parameters = update_parameters(parameters,gradients,learning_rate)\n",
    "        if print_cost:\n",
    "            costs.append(cost(Yp,Y))\n",
    "    return parameters\n",
    "    "
   ]
  },
  {
   "cell_type": "code",
   "execution_count": 133,
   "id": "b64ded1b",
   "metadata": {
    "id": "b64ded1b",
    "outputId": "f968dcb3-f96d-4dc4-ba34-fd897bd2fbdf"
   },
   "outputs": [
    {
     "data": {
      "text/plain": [
       "'Testing train'"
      ]
     },
     "execution_count": 133,
     "metadata": {},
     "output_type": "execute_result"
    },
    {
     "data": {
      "text/plain": [
       "array([[1., 1., 0., 0., 0., 0., 1., 1., 1., 0.]])"
      ]
     },
     "execution_count": 133,
     "metadata": {},
     "output_type": "execute_result"
    },
    {
     "data": {
      "text/plain": [
       "array([[1, 1, 0, 0, 0, 0, 1, 1, 1, 0]])"
      ]
     },
     "execution_count": 133,
     "metadata": {},
     "output_type": "execute_result"
    }
   ],
   "source": [
    "'Testing train'\n",
    "np.random.seed(1)\n",
    "X=np.random.randn(2,10)\n",
    "Y=np.zeros((1,10))\n",
    "Y[0:]=(X[0,:]>X[1,:])\n",
    "Y\n",
    "parameters=train(X, Y, [2,1], 0.1, 100000, 10000)\n",
    "np.where(predict(X,parameters)> 0.6, 1, 0)\n",
    "assert np.all(np.isclose(np.where(predict(X,parameters)> 0.6, 1, 0), [[1, 1, 0, 0, 0, 0, 1, 1, 1, 0]])), \"Wrong values\""
   ]
  },
  {
   "cell_type": "markdown",
   "id": "7bd9ebdc-0f95-4cba-bae6-06abfd802e15",
   "metadata": {
    "id": "f566b365"
   },
   "source": [
    "# Retrospectiva"
   ]
  },
  {
   "cell_type": "markdown",
   "id": "e2d5af14-5af2-47db-a392-690422a330cf",
   "metadata": {},
   "source": [
    "1.¿ Cuál fue el tiempo total invertido en el laboratorio por cada uno de ustedes?\n",
    "    Castaño/9; Mesa/7\n",
    "2. ¿Cuál es el estado actual del laboratorio? ¿Por qué?\n",
    "En estos momentos, lo único que falto del laboratorio fue colocar las derivadas de las formulas usadas  ya que, al momento de enredarnos haciendo la función backward, entregamos el laboratorio sobre el tiempo.\n",
    "3. ¿Cuál consideran fue el mayor logro? ¿Por qué?\n",
    "Poder realizar todas las funciones debido a que en cierto punto fue dificil pasar las formulas a codigo.\n",
    "4. ¿Cuál fue el mayor problema tecnico?\n",
    "Realizar la función b"
   ]
  }
 ],
 "metadata": {
  "colab": {
   "provenance": []
  },
  "kernelspec": {
   "display_name": "Python 3 (ipykernel)",
   "language": "python",
   "name": "python3"
  },
  "language_info": {
   "codemirror_mode": {
    "name": "ipython",
    "version": 3
   },
   "file_extension": ".py",
   "mimetype": "text/x-python",
   "name": "python",
   "nbconvert_exporter": "python",
   "pygments_lexer": "ipython3",
   "version": "3.11.5"
  }
 },
 "nbformat": 4,
 "nbformat_minor": 5
}
